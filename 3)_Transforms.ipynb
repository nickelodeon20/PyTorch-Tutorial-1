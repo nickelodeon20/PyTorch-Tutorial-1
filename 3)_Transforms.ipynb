{
  "nbformat": 4,
  "nbformat_minor": 0,
  "metadata": {
    "colab": {
      "provenance": [],
      "authorship_tag": "ABX9TyN0YT2NUNWqhKiz6FsmFxAd",
      "include_colab_link": true
    },
    "kernelspec": {
      "name": "python3",
      "display_name": "Python 3"
    },
    "language_info": {
      "name": "python"
    }
  },
  "cells": [
    {
      "cell_type": "markdown",
      "metadata": {
        "id": "view-in-github",
        "colab_type": "text"
      },
      "source": [
        "<a href=\"https://colab.research.google.com/github/nickelodeon20/PyTorch-Tutorial-1/blob/main/3)_Transforms.ipynb\" target=\"_parent\"><img src=\"https://colab.research.google.com/assets/colab-badge.svg\" alt=\"Open In Colab\"/></a>"
      ]
    },
    {
      "cell_type": "markdown",
      "source": [
        "# **Transforms**\n",
        "Created On: Feb 09, 2021 | Last Updated: Aug 11, 2021 | Last Verified: Not Verified\n",
        "\n",
        "Data does not always come in its final processed form that is required for training machine learning algorithms. We use _**transforms**_ to perform some manipulation of the data and make it suitable for training.\n",
        "\n",
        "All TorchVision datasets have two parameters - \"_transform_\" to modify the features and \"_target_ __transform_\" to modify the labels - that accept callables containing the transformation logic. The **torchvision.transforms** module offers several commonly-used transforms out of the box.\n",
        "\n",
        "The FashionMNIST features are in PIL Image format, and the labels are integers. For training, we need the features as normalized tensors, and the labels as one-hot encoded tensors. To make these transformations, we use \"_ToTensor_\" and \"_Lambda_\"\n"
      ],
      "metadata": {
        "id": "qYSaWHs7GzAS"
      }
    },
    {
      "cell_type": "code",
      "execution_count": 3,
      "metadata": {
        "id": "21wwbUjiGb_t"
      },
      "outputs": [],
      "source": [
        "import torch\n",
        "from torchvision import datasets\n",
        "from torchvision.transforms import ToTensor, Lambda\n",
        "\n",
        "ds = datasets.FashionMNIST(\n",
        "    root=\"data\",\n",
        "    train=True,\n",
        "    download=True,\n",
        "    transform=ToTensor(),\n",
        "    target_transform=Lambda(lambda y: torch.zeros(10, dtype=torch.float).scatter_(0, torch.tensor(y), value = 1))\n",
        ")"
      ]
    },
    {
      "cell_type": "markdown",
      "source": [
        "# ToTensor()\n",
        "\n",
        "*ToTensor* converts a PIL image or NumPy \"_ndarray_\" into a \"_FloatTensor_\". and scales the image’s pixel intensity values in the range [0., 1.]\n",
        "\n",
        "# Lambda Transforms\n",
        "\n",
        "Lambda transforms apply any user-defined lambda function. Here, we define a function to turn the integer into a one-hot encoded tensor. It first creates a zero tensor of size 10 (the number of labels in our dataset) and calls \"*scatter_* \" which assigns a value=1 on the index as given by the label y."
      ],
      "metadata": {
        "id": "lEcOk9X5Jav1"
      }
    },
    {
      "cell_type": "code",
      "source": [],
      "metadata": {
        "id": "QWSVl47CJGsm"
      },
      "execution_count": null,
      "outputs": []
    }
  ]
}